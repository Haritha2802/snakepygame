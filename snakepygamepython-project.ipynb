{
 "cells": [
  {
   "cell_type": "code",
   "execution_count": 2,
   "metadata": {},
   "outputs": [
    {
     "name": "stdout",
     "output_type": "stream",
     "text": [
      "Requirement already satisfied: pygame in c:\\users\\eriga\\anaconda3\\lib\\site-packages (2.6.1)Note: you may need to restart the kernel to use updated packages.\n",
      "\n"
     ]
    }
   ],
   "source": [
    "pip install pygame"
   ]
  },
  {
   "cell_type": "code",
   "execution_count": 4,
   "metadata": {},
   "outputs": [
    {
     "ename": "SystemExit",
     "evalue": "",
     "output_type": "error",
     "traceback": [
      "An exception has occurred, use %tb to see the full traceback.\n",
      "\u001b[1;31mSystemExit\u001b[0m\n"
     ]
    }
   ],
   "source": [
    "import pygame\n",
    "import sys \n",
    "import random\n",
    "\n",
    "pygame.init()\n",
    "\n",
    "SW, SH = 800, 800\n",
    "\n",
    "BLOCK_SIZE = 50\n",
    "FONT = pygame.font.Font(\"font.ttf\", BLOCK_SIZE*2)\n",
    "\n",
    "screen = pygame.display.set_mode((800, 800))\n",
    "pygame.display.set_caption(\"Snake!\")\n",
    "clock = pygame.time.Clock()\n",
    "\n",
    "class Snake:\n",
    "    def __init__(self):\n",
    "        self.x, self.y = BLOCK_SIZE, BLOCK_SIZE\n",
    "        self.xdir = 1\n",
    "        self.ydir = 0\n",
    "        self.head = pygame.Rect(self.x, self.y, BLOCK_SIZE, BLOCK_SIZE)\n",
    "        self.body = [pygame.Rect(self.x-BLOCK_SIZE, self.y, BLOCK_SIZE, BLOCK_SIZE)]\n",
    "        self.dead = False\n",
    "    \n",
    "    def update(self):\n",
    "        global apple\n",
    "        \n",
    "        for square in self.body:\n",
    "            if self.head.x == square.x and self.head.y == square.y:\n",
    "                self.dead = True\n",
    "            if self.head.x not in range(0, SW) or self.head.y not in range(0, SH):\n",
    "                self.dead = True\n",
    "        \n",
    "        if self.dead:\n",
    "            self.x, self.y = BLOCK_SIZE, BLOCK_SIZE\n",
    "            self.head = pygame.Rect(self.x, self.y, BLOCK_SIZE, BLOCK_SIZE)\n",
    "            self.body = [pygame.Rect(self.x-BLOCK_SIZE, self.y, BLOCK_SIZE, BLOCK_SIZE)]\n",
    "            self.xdir = 1\n",
    "            self.ydir = 0\n",
    "            self.dead = False\n",
    "            apple = Apple()\n",
    "        \n",
    "        self.body.append(self.head)\n",
    "        for i in range(len(self.body)-1):\n",
    "            self.body[i].x, self.body[i].y = self.body[i+1].x, self.body[i+1].y\n",
    "        self.head.x += self.xdir * BLOCK_SIZE\n",
    "        self.head.y += self.ydir * BLOCK_SIZE\n",
    "        self.body.remove(self.head)\n",
    "\n",
    "class Apple:\n",
    "    def __init__(self):\n",
    "        self.x = int(random.randint(0, SW)/BLOCK_SIZE) * BLOCK_SIZE\n",
    "        self.y = int(random.randint(0, SH)/BLOCK_SIZE) * BLOCK_SIZE\n",
    "        self.rect = pygame.Rect(self.x, self.y, BLOCK_SIZE, BLOCK_SIZE)\n",
    "    \n",
    "    def update(self):\n",
    "        pygame.draw.rect(screen, \"blue\", self.rect)\n",
    "\n",
    "def drawGrid():\n",
    "    for x in range(0, SW, BLOCK_SIZE):\n",
    "        for y in range(0, SH, BLOCK_SIZE):\n",
    "            rect = pygame.Rect(x, y, BLOCK_SIZE, BLOCK_SIZE)\n",
    "            pygame.draw.rect(screen, \"#3c3c3b\", rect, 1)\n",
    "\n",
    "score = FONT.render(\"1\", True, \"white\")\n",
    "score_rect = score.get_rect(center=(SW/2, SH/20))\n",
    "\n",
    "drawGrid()\n",
    "\n",
    "snake = Snake()\n",
    "\n",
    "apple = Apple()\n",
    "\n",
    "while True:\n",
    "    for event in pygame.event.get():\n",
    "        if event.type == pygame.QUIT:\n",
    "            pygame.quit()\n",
    "            sys.exit()\n",
    "        if event.type == pygame.KEYDOWN:\n",
    "            if event.key == pygame.K_DOWN:\n",
    "                snake.ydir = 1\n",
    "                snake.xdir = 0\n",
    "            elif event.key == pygame.K_UP:\n",
    "                snake.ydir = -1\n",
    "                snake.xdir = 0\n",
    "            elif event.key == pygame.K_RIGHT:\n",
    "                snake.ydir = 0\n",
    "                snake.xdir = 1\n",
    "            elif event.key == pygame.K_LEFT:\n",
    "                snake.ydir = 0\n",
    "                snake.xdir = -1\n",
    "\n",
    "    snake.update()\n",
    "    \n",
    "    screen.fill('black')\n",
    "    drawGrid()\n",
    "\n",
    "    apple.update()\n",
    "\n",
    "    score = FONT.render(f\"{len(snake.body) + 1}\", True, \"white\")\n",
    "\n",
    "    pygame.draw.rect(screen, \"green\", snake.head)\n",
    "\n",
    "    for square in snake.body:\n",
    "        pygame.draw.rect(screen, \"green\", square)\n",
    "\n",
    "    screen.blit(score, score_rect)\n",
    "\n",
    "    if snake.head.x == apple.x and snake.head.y == apple.y:\n",
    "        snake.body.append(pygame.Rect(square.x, square.y, BLOCK_SIZE, BLOCK_SIZE))\n",
    "        apple = Apple()\n",
    "\n",
    "    pygame.display.update()\n",
    "    clock.tick(5)\n"
   ]
  },
  {
   "cell_type": "code",
   "execution_count": null,
   "metadata": {},
   "outputs": [],
   "source": []
  },
  {
   "cell_type": "code",
   "execution_count": null,
   "metadata": {},
   "outputs": [],
   "source": []
  }
 ],
 "metadata": {
  "kernelspec": {
   "display_name": "Python 3",
   "language": "python",
   "name": "python3"
  },
  "language_info": {
   "codemirror_mode": {
    "name": "ipython",
    "version": 3
   },
   "file_extension": ".py",
   "mimetype": "text/x-python",
   "name": "python",
   "nbconvert_exporter": "python",
   "pygments_lexer": "ipython3",
   "version": "3.8.5"
  }
 },
 "nbformat": 4,
 "nbformat_minor": 4
}
